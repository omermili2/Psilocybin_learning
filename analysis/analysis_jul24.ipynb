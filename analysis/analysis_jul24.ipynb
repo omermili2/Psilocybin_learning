{
 "cells": [
  {
   "cell_type": "code",
   "execution_count": 265,
   "metadata": {},
   "outputs": [],
   "source": [
    "import numpy as np\n",
    "import matplotlib.pyplot as plt\n",
    "import pandas as pd\n",
    "from glob import glob\n",
    "import os, json\n",
    "from os.path import dirname\n",
    "from pandas import DataFrame, concat\n",
    "from tqdm import tqdm\n",
    "import seaborn as sns \n",
    "\n",
    "import re\n"
   ]
  },
  {
   "cell_type": "code",
   "execution_count": 266,
   "metadata": {},
   "outputs": [],
   "source": [
    "dir = '../data/data_july_24/'\n",
    "interim_files = glob('{}*interim'.format(dir))\n",
    "all_files = glob(\"{}*\".format(dir))\n",
    "zip_files = glob(\"{}*.zip\".format(dir))\n",
    "\n"
   ]
  },
  {
   "cell_type": "code",
   "execution_count": 267,
   "metadata": {},
   "outputs": [],
   "source": [
    "full_files = [item for item in all_files if ((item not in interim_files) and (item not in zip_files))]\n"
   ]
  },
  {
   "cell_type": "code",
   "execution_count": 268,
   "metadata": {},
   "outputs": [],
   "source": [
    "full_files[13]\n",
    "\n",
    "user_id = r's\\d{1,3}'\n",
    "task = r'[\\d]_([a-z]+_?[a-z]+)'\n",
    "date = r'(20\\d*)'"
   ]
  },
  {
   "cell_type": "code",
   "execution_count": 269,
   "metadata": {},
   "outputs": [],
   "source": [
    "cols = ['filename','user_id','task','date','full','mb']\n",
    "df = pd.DataFrame(columns=cols)"
   ]
  },
  {
   "cell_type": "code",
   "execution_count": 270,
   "metadata": {},
   "outputs": [],
   "source": [
    "for file in full_files:\n",
    "\n",
    "    tmp_user = re.search(user_id,file)\n",
    "    tmp_task = re.search(task, file)\n",
    "    tmp_data = re.search(date, file)\n",
    "\n",
    "    if not tmp_user:\n",
    "        print(file, tmp_user)\n",
    "\n",
    "    if not tmp_task:\n",
    "        print(file, tmp_task)\n",
    "\n",
    "    if not tmp_data:\n",
    "        print(file, tmp_data)\n",
    "\n",
    "    df_tmp =  pd.DataFrame(np.array([file,tmp_user[0][1:], tmp_task[0][2:], tmp_data[0], 'full', os.path.getsize(file)/1024]).reshape(1,6),\n",
    "                           columns=cols)\n",
    "    df = pd.concat([df,df_tmp])"
   ]
  },
  {
   "cell_type": "code",
   "execution_count": 271,
   "metadata": {},
   "outputs": [
    {
     "data": {
      "text/plain": [
       "task\n",
       "mrst               30\n",
       "pgng               24\n",
       "scream_acq         25\n",
       "scream_recovery    23\n",
       "twostep            26\n",
       "Name: filename, dtype: int64"
      ]
     },
     "execution_count": 271,
     "metadata": {},
     "output_type": "execute_result"
    }
   ],
   "source": [
    "df.groupby(['task']).nunique()['filename']"
   ]
  },
  {
   "cell_type": "code",
   "execution_count": 272,
   "metadata": {},
   "outputs": [],
   "source": [
    "import re\n",
    "from datetime import datetime\n",
    "\n",
    "def convert_to_standard_datetime(datetime_str):\n",
    "    # Define regex patterns to match different datetime formats\n",
    "    patterns = [\n",
    "        r'(\\d{4})(\\d{1})(\\d{1})(\\d{1})(\\d{1})(\\d{1})',   # yyyymdhms (e.g., 20243110101)\n",
    "        r'(\\d{4})(\\d{1})(\\d{1})(\\d{2})(\\d{2})(\\d{2})',   # yyyymddhms (e.g., 202471610101)\n",
    "        r'(\\d{4})(\\d{2})(\\d{1})(\\d{1})(\\d{1})(\\d{1})',   # yyyymmddhms (e.g., 202407260101)\n",
    "        r'(\\d{4})(\\d{2})(\\d{2})(\\d{2})(\\d{2})(\\d{2})',   # yyyymmddhhmmss (e.g., 20240726101010)\n",
    "        r'(\\d{4})(\\d{1})(\\d{2})(\\d{1})(\\d{2})(\\d{2})',   # yyyymddhhmmss (e.g., 202472601010)\n",
    "        r'(\\d{4})(\\d{2})(\\d{1})(\\d{2})(\\d{2})(\\d{2})',   # yyyymmddhhmmss (e.g., 202407260101)\n",
    "        r'(\\d{4})(\\d{2})(\\d{2})(\\d{1})(\\d{2})(\\d{2})',   # yyyymmddhhmmss (e.g., 202407261010)\n",
    "    ]\n",
    "    \n",
    "    for pattern in patterns:\n",
    "        match = re.match(pattern, datetime_str)\n",
    "        if match:\n",
    "            year, month, day, hour, minute, second = match.groups()\n",
    "            # Pad month, day, hour, minute, and second with leading zeros if necessary\n",
    "            month = month.zfill(2)\n",
    "            day = day.zfill(2)\n",
    "            hour = hour.zfill(2)\n",
    "            minute = minute.zfill(2)\n",
    "            second = second.zfill(2)\n",
    "            return f\"{year}-{month}-{day} {hour}:{minute}:{second}\"\n",
    "    \n",
    "    return \"Invalid datetime format\"\n",
    "\n",
    "# # Examples\n",
    "# datetimes = [\"20243110101\", \"202471610101\", \"202407260101\", \"20240726101010\", \"202472601010\", \"202407260101\", \"202407261010\"]\n",
    "# converted_datetimes = [convert_to_standard_datetime(datetime_str) for datetime_str in datetimes]\n",
    "# print(converted_datetimes)\n"
   ]
  },
  {
   "cell_type": "code",
   "execution_count": 273,
   "metadata": {},
   "outputs": [],
   "source": [
    "df['standard_datetime'] = df.date.apply(lambda x:convert_to_standard_datetime(x))"
   ]
  },
  {
   "cell_type": "code",
   "execution_count": 274,
   "metadata": {},
   "outputs": [],
   "source": [
    "df.mb = df.mb.astype(float)\n"
   ]
  },
  {
   "cell_type": "code",
   "execution_count": 275,
   "metadata": {},
   "outputs": [
    {
     "data": {
      "text/html": [
       "<div>\n",
       "<style scoped>\n",
       "    .dataframe tbody tr th:only-of-type {\n",
       "        vertical-align: middle;\n",
       "    }\n",
       "\n",
       "    .dataframe tbody tr th {\n",
       "        vertical-align: top;\n",
       "    }\n",
       "\n",
       "    .dataframe thead th {\n",
       "        text-align: right;\n",
       "    }\n",
       "</style>\n",
       "<table border=\"1\" class=\"dataframe\">\n",
       "  <thead>\n",
       "    <tr style=\"text-align: right;\">\n",
       "      <th></th>\n",
       "      <th>user_id</th>\n",
       "    </tr>\n",
       "    <tr>\n",
       "      <th>task</th>\n",
       "      <th></th>\n",
       "    </tr>\n",
       "  </thead>\n",
       "  <tbody>\n",
       "    <tr>\n",
       "      <th>1</th>\n",
       "      <td>3</td>\n",
       "    </tr>\n",
       "    <tr>\n",
       "      <th>2</th>\n",
       "      <td>3</td>\n",
       "    </tr>\n",
       "    <tr>\n",
       "      <th>3</th>\n",
       "      <td>2</td>\n",
       "    </tr>\n",
       "    <tr>\n",
       "      <th>4</th>\n",
       "      <td>8</td>\n",
       "    </tr>\n",
       "    <tr>\n",
       "      <th>5</th>\n",
       "      <td>15</td>\n",
       "    </tr>\n",
       "  </tbody>\n",
       "</table>\n",
       "</div>"
      ],
      "text/plain": [
       "      user_id\n",
       "task         \n",
       "1           3\n",
       "2           3\n",
       "3           2\n",
       "4           8\n",
       "5          15"
      ]
     },
     "execution_count": 275,
     "metadata": {},
     "output_type": "execute_result"
    }
   ],
   "source": [
    "df.groupby(['user_id']).nunique().reset_index()[['user_id','task']].groupby('task').nunique()"
   ]
  },
  {
   "cell_type": "code",
   "execution_count": 276,
   "metadata": {},
   "outputs": [],
   "source": [
    "## all users\n",
    "\n",
    "particiapnts_df = pd.read_csv('participants.csv', sep=\",\")  \n",
    "valid_participants = particiapnts_df[particiapnts_df['VALID']==True]\n",
    "\n"
   ]
  },
  {
   "cell_type": "code",
   "execution_count": 277,
   "metadata": {},
   "outputs": [
    {
     "name": "stderr",
     "output_type": "stream",
     "text": [
      "/var/folders/f7/jcqxh9dj3tv469cncv9966q40000gn/T/ipykernel_11312/3533921764.py:1: SettingWithCopyWarning: \n",
      "A value is trying to be set on a copy of a slice from a DataFrame.\n",
      "Try using .loc[row_indexer,col_indexer] = value instead\n",
      "\n",
      "See the caveats in the documentation: https://pandas.pydata.org/pandas-docs/stable/user_guide/indexing.html#returning-a-view-versus-a-copy\n",
      "  valid_participants['mrst'] = valid_participants[['RISK_1','RISK_2']].apply(lambda x: x[0] and x[1], axis=1)\n",
      "/var/folders/f7/jcqxh9dj3tv469cncv9966q40000gn/T/ipykernel_11312/3533921764.py:2: SettingWithCopyWarning: \n",
      "A value is trying to be set on a copy of a slice from a DataFrame.\n",
      "Try using .loc[row_indexer,col_indexer] = value instead\n",
      "\n",
      "See the caveats in the documentation: https://pandas.pydata.org/pandas-docs/stable/user_guide/indexing.html#returning-a-view-versus-a-copy\n",
      "  valid_participants['pgng'] = valid_participants[['PGNG_1','PGNG_2']].apply(lambda x: x[0] and x[1], axis=1)\n",
      "/var/folders/f7/jcqxh9dj3tv469cncv9966q40000gn/T/ipykernel_11312/3533921764.py:3: SettingWithCopyWarning: \n",
      "A value is trying to be set on a copy of a slice from a DataFrame.\n",
      "Try using .loc[row_indexer,col_indexer] = value instead\n",
      "\n",
      "See the caveats in the documentation: https://pandas.pydata.org/pandas-docs/stable/user_guide/indexing.html#returning-a-view-versus-a-copy\n",
      "  valid_participants['twostep'] = valid_participants[['2STEP_1','2STEP_2']].apply(lambda x: x[0] and x[1], axis=1)\n",
      "/var/folders/f7/jcqxh9dj3tv469cncv9966q40000gn/T/ipykernel_11312/3533921764.py:4: SettingWithCopyWarning: \n",
      "A value is trying to be set on a copy of a slice from a DataFrame.\n",
      "Try using .loc[row_indexer,col_indexer] = value instead\n",
      "\n",
      "See the caveats in the documentation: https://pandas.pydata.org/pandas-docs/stable/user_guide/indexing.html#returning-a-view-versus-a-copy\n",
      "  valid_participants['scream_acq'] = valid_participants['SCREAM_1']\n",
      "/var/folders/f7/jcqxh9dj3tv469cncv9966q40000gn/T/ipykernel_11312/3533921764.py:5: SettingWithCopyWarning: \n",
      "A value is trying to be set on a copy of a slice from a DataFrame.\n",
      "Try using .loc[row_indexer,col_indexer] = value instead\n",
      "\n",
      "See the caveats in the documentation: https://pandas.pydata.org/pandas-docs/stable/user_guide/indexing.html#returning-a-view-versus-a-copy\n",
      "  valid_participants['scream_recovery'] = valid_participants['SCREAM_2']\n"
     ]
    }
   ],
   "source": [
    "valid_participants['mrst'] = valid_participants[['RISK_1','RISK_2']].apply(lambda x: x[0] and x[1], axis=1)\n",
    "valid_participants['pgng'] = valid_participants[['PGNG_1','PGNG_2']].apply(lambda x: x[0] and x[1], axis=1)\n",
    "valid_participants['twostep'] = valid_participants[['2STEP_1','2STEP_2']].apply(lambda x: x[0] and x[1], axis=1)\n",
    "valid_participants['scream_acq'] = valid_participants['SCREAM_1'] \n",
    "valid_participants['scream_recovery'] = valid_participants['SCREAM_2'] \n",
    "\n"
   ]
  },
  {
   "cell_type": "code",
   "execution_count": 278,
   "metadata": {},
   "outputs": [],
   "source": [
    "#valid_participants[['RISK','SCREAM_1','SCREAM_2,'PGNG','2STEP','VALID']]"
   ]
  },
  {
   "cell_type": "code",
   "execution_count": 279,
   "metadata": {},
   "outputs": [],
   "source": [
    "df.date = df.date.astype(float)"
   ]
  },
  {
   "cell_type": "code",
   "execution_count": 280,
   "metadata": {},
   "outputs": [],
   "source": [
    "df_pivot = df.pivot_table(index='user_id', columns='task', values='date').reset_index()\n",
    "df_pivot[['mrst','pgng','scream_acq','scream_recovery','twostep']] = df.pivot_table(index='user_id', columns='task', values='date').reset_index()[['mrst','pgng','scream_acq','scream_recovery','twostep']].notna()\n",
    "\n"
   ]
  },
  {
   "cell_type": "code",
   "execution_count": 281,
   "metadata": {},
   "outputs": [],
   "source": [
    "df_pivot['user_id'] = df_pivot.user_id.astype(int)"
   ]
  },
  {
   "cell_type": "code",
   "execution_count": 282,
   "metadata": {},
   "outputs": [],
   "source": [
    "# valid_participants[['participant_id','mrst','pgng','scream_acq','scream_recovery','twostep']]"
   ]
  },
  {
   "cell_type": "code",
   "execution_count": 283,
   "metadata": {},
   "outputs": [],
   "source": [
    "merge_df = pd.merge(df_pivot, valid_participants[['participant_id','mrst','pgng','scream_acq','scream_recovery','twostep']], left_on='user_id', right_on='participant_id')"
   ]
  },
  {
   "cell_type": "code",
   "execution_count": 284,
   "metadata": {},
   "outputs": [],
   "source": [
    "# merge_df"
   ]
  },
  {
   "cell_type": "code",
   "execution_count": 285,
   "metadata": {},
   "outputs": [],
   "source": [
    "merge_df['mrst_check'] = merge_df[['mrst_x','mrst_y']].apply(lambda x: False if x[1] and not x[0] else True, axis=1)\n",
    "merge_df['pgng_check'] = merge_df[['pgng_x','pgng_y']].apply(lambda x: False if x[1] and not x[0] else True, axis=1)\n",
    "merge_df['twostep_check'] = merge_df[['twostep_x','twostep_y']].apply(lambda x: False if x[1] and not x[0] else True, axis=1)\n",
    "merge_df['scream_acq_check'] = merge_df[['scream_acq_x','scream_acq_y']].apply(lambda x: False if x[1] and not x[0] else True, axis=1)\n",
    "merge_df['scream_rec_check'] = merge_df[['scream_recovery_x','scream_recovery_y']].apply(lambda x: False if x[1] and not x[0] else True, axis=1)\n"
   ]
  },
  {
   "cell_type": "code",
   "execution_count": 287,
   "metadata": {},
   "outputs": [],
   "source": [
    "# merge_df[['user_id','mrst_check','pgng_check','twostep_check','scream_acq_check','scream_rec_check']].drop_duplicates().groupby('user_id').sum()"
   ]
  },
  {
   "cell_type": "code",
   "execution_count": 288,
   "metadata": {},
   "outputs": [],
   "source": [
    "#missing files\n",
    "missing_check = []\n",
    "names = ['mrst_check','pgng_check','twostep_check','scream_acq_check','scream_rec_check']\n",
    "for row in merge_df[['user_id','mrst_check','pgng_check','twostep_check','scream_acq_check','scream_rec_check']].drop_duplicates().groupby('user_id').sum().iterrows():\n",
    "    \n",
    "    user = row[0]\n",
    "    if len(row[1][row[1]==0].reset_index()['index'])>0:\n",
    "        missing_check.append((user, row[1][row[1]==0].reset_index()['index']))"
   ]
  },
  {
   "cell_type": "code",
   "execution_count": 301,
   "metadata": {},
   "outputs": [
    {
     "data": {
      "text/plain": [
       "(131,\n",
       " 0       twostep_check\n",
       " 1    scream_rec_check\n",
       " Name: index, dtype: object)"
      ]
     },
     "execution_count": 301,
     "metadata": {},
     "output_type": "execute_result"
    }
   ],
   "source": [
    "missing_check[7]"
   ]
  },
  {
   "cell_type": "code",
   "execution_count": 295,
   "metadata": {},
   "outputs": [
    {
     "data": {
      "text/html": [
       "<div>\n",
       "<style scoped>\n",
       "    .dataframe tbody tr th:only-of-type {\n",
       "        vertical-align: middle;\n",
       "    }\n",
       "\n",
       "    .dataframe tbody tr th {\n",
       "        vertical-align: top;\n",
       "    }\n",
       "\n",
       "    .dataframe thead th {\n",
       "        text-align: right;\n",
       "    }\n",
       "</style>\n",
       "<table border=\"1\" class=\"dataframe\">\n",
       "  <thead>\n",
       "    <tr style=\"text-align: right;\">\n",
       "      <th></th>\n",
       "      <th>filename</th>\n",
       "      <th>user_id</th>\n",
       "      <th>task</th>\n",
       "      <th>date</th>\n",
       "      <th>full</th>\n",
       "      <th>mb</th>\n",
       "      <th>standard_datetime</th>\n",
       "    </tr>\n",
       "  </thead>\n",
       "  <tbody>\n",
       "    <tr>\n",
       "      <th>0</th>\n",
       "      <td>../data/data_july_24/s108_pgng_202362115524</td>\n",
       "      <td>108</td>\n",
       "      <td>pgng</td>\n",
       "      <td>2.023621e+11</td>\n",
       "      <td>full</td>\n",
       "      <td>169.056641</td>\n",
       "      <td>2023-06-02 01:01:05</td>\n",
       "    </tr>\n",
       "    <tr>\n",
       "      <th>0</th>\n",
       "      <td>../data/data_july_24/s108_mrst_2023621162420</td>\n",
       "      <td>108</td>\n",
       "      <td>mrst</td>\n",
       "      <td>2.023621e+12</td>\n",
       "      <td>full</td>\n",
       "      <td>146.208984</td>\n",
       "      <td>2023-06-02 01:01:06</td>\n",
       "    </tr>\n",
       "  </tbody>\n",
       "</table>\n",
       "</div>"
      ],
      "text/plain": [
       "                                       filename user_id  task          date  \\\n",
       "0   ../data/data_july_24/s108_pgng_202362115524     108  pgng  2.023621e+11   \n",
       "0  ../data/data_july_24/s108_mrst_2023621162420     108  mrst  2.023621e+12   \n",
       "\n",
       "   full          mb    standard_datetime  \n",
       "0  full  169.056641  2023-06-02 01:01:05  \n",
       "0  full  146.208984  2023-06-02 01:01:06  "
      ]
     },
     "execution_count": 295,
     "metadata": {},
     "output_type": "execute_result"
    }
   ],
   "source": [
    "df[df.user_id=='108']"
   ]
  },
  {
   "cell_type": "code",
   "execution_count": 238,
   "metadata": {},
   "outputs": [],
   "source": [
    "import os\n"
   ]
  },
  {
   "cell_type": "code",
   "execution_count": 297,
   "metadata": {},
   "outputs": [],
   "source": [
    "dir = '../data/incomplete_search/'\n",
    "files_incom = glob('{}*'.format(dir))\n",
    "\n",
    "for file in files_incom:\n",
    "    # date = re.search('2023-07-04',file)\n",
    "\n",
    "    # if date:\n",
    "    # print(file)\n",
    "    f = open(file)\n",
    "    data = json.load(f)\n",
    "\n",
    "    if len(data)>1:\n",
    "        if data[0]['sub'] == 110:\n",
    "            print(file, data[0]['sub'], data[0]['task'])\n",
    "                  \n",
    "                  #'../data/data_july_24/'+data[0]['fout']+'.json')\n",
    "\n",
    "            # os.rename(file, '../data/data_july_24/'+data[0]['fout']+'.json')\n",
    "\n",
    "    "
   ]
  },
  {
   "cell_type": "code",
   "execution_count": 239,
   "metadata": {},
   "outputs": [
    {
     "data": {
      "text/plain": [
       "'../data/incomplete_search/2024-04-07 08:20:45'"
      ]
     },
     "execution_count": 239,
     "metadata": {},
     "output_type": "execute_result"
    }
   ],
   "source": [
    "file"
   ]
  },
  {
   "cell_type": "code",
   "execution_count": 243,
   "metadata": {},
   "outputs": [
    {
     "data": {
      "text/plain": [
       "'../data/data_july_24/s999_scream_acq_ext_202382181824.json'"
      ]
     },
     "execution_count": 243,
     "metadata": {},
     "output_type": "execute_result"
    }
   ],
   "source": [
    "'../data/data_july_24/'+data[0]['fout']+'.json'"
   ]
  },
  {
   "cell_type": "code",
   "execution_count": null,
   "metadata": {},
   "outputs": [],
   "source": []
  }
 ],
 "metadata": {
  "kernelspec": {
   "display_name": "Python 3",
   "language": "python",
   "name": "python3"
  },
  "language_info": {
   "codemirror_mode": {
    "name": "ipython",
    "version": 3
   },
   "file_extension": ".py",
   "mimetype": "text/x-python",
   "name": "python",
   "nbconvert_exporter": "python",
   "pygments_lexer": "ipython3",
   "version": "3.9.6"
  },
  "orig_nbformat": 4,
  "vscode": {
   "interpreter": {
    "hash": "31f2aee4e71d21fbe5cf8b01ff0e069b9275f58929596ceb00d14d90e3e16cd6"
   }
  }
 },
 "nbformat": 4,
 "nbformat_minor": 2
}
